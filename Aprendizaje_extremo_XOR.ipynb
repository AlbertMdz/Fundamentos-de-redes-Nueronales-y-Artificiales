{
  "nbformat": 4,
  "nbformat_minor": 0,
  "metadata": {
    "colab": {
      "name": "Aprendizaje extremo_XOR.ipynb",
      "provenance": [],
      "include_colab_link": true
    },
    "kernelspec": {
      "name": "python3",
      "display_name": "Python 3"
    }
  },
  "cells": [
    {
      "cell_type": "markdown",
      "metadata": {
        "id": "view-in-github",
        "colab_type": "text"
      },
      "source": [
        "<a href=\"https://colab.research.google.com/github/AlbertMdz/Fundamentos-de-redes-Nueronales-y-Artificiales/blob/master/Aprendizaje_extremo_XOR.ipynb\" target=\"_parent\"><img src=\"https://colab.research.google.com/assets/colab-badge.svg\" alt=\"Open In Colab\"/></a>"
      ]
    },
    {
      "cell_type": "code",
      "metadata": {
        "id": "1R5ZaKcn1iHO",
        "colab_type": "code",
        "colab": {}
      },
      "source": [
        "from matplotlib import pyplot as plt\n",
        "import numpy as np\n",
        "from numpy import exp, array, random, dot, tanh\n",
        "from sklearn import datasets\n",
        "import copy\n",
        "np.random.seed(10)\n",
        "\n",
        "from math import exp\n",
        "from random import seed\n",
        "# Test training backprop algorithm\n",
        "seed(2)"
      ],
      "execution_count": 0,
      "outputs": []
    },
    {
      "cell_type": "markdown",
      "metadata": {
        "id": "OujqTaXD1znS",
        "colab_type": "text"
      },
      "source": [
        "Algunas funciones útiles\n",
        "- Una función no lineal (sigmoide o tanh)\n",
        "- Por defecto, escojemos tanh porque sigmoid puede causar un problema de desbordamiento.\n",
        "- También se puede ver la función sigmoide a continuación en los comentarios en el código.\n",
        "- Función de activación\n",
        "- Suma de la función de error al cuadrado\n",
        "- Función de errores de trazado\n",
        "- Mezclar dos vectores juntos\n",
        "- Crear una lista de 'saltos' que contiene pesos"
      ]
    },
    {
      "cell_type": "code",
      "metadata": {
        "id": "Z9OT00md1suM",
        "colab_type": "code",
        "colab": {}
      },
      "source": [
        "def nonlin(x,deriv=False):\n",
        "    if deriv==True:\n",
        "        return 1-tanh(x)**2\n",
        "    return tanh(x)\n",
        "\n",
        "def activate(weights,prev_layer):\n",
        "    return nonlin(np.dot(weights[:-1],prev_layer) + weights[-1])\n",
        "\n",
        "def sum_of_squared_error(v1,v2):\n",
        "    if(len(v1)!=len(v2)):\n",
        "        print(\"Lengths of vectors must be consistent.\")\n",
        "        return -1\n",
        "    return np.sum(np.square(np.array(v1)-np.array(v2)))\n",
        "\n",
        "def plot_errors(ERRORS,labelx='Epoch',labely='Total Error',figsize=(10,3)):\n",
        "    # PLot the error as a function of iteratation\n",
        "    plt.figure(figsize=figsize)\n",
        "    plt.plot(ERRORS)\n",
        "    plt.xlabel(labelx)\n",
        "    plt.ylabel(labely)\n",
        "    plt.show()\n",
        "\n",
        "def shuffle_together(x,y):\n",
        "    together = list(zip(x, y))\n",
        "    random.shuffle(together)\n",
        "    x, y = zip(*together)\n",
        "    return np.asarray(list(x)),  np.asarray(list(y))\n",
        "\n",
        "def create_jump_list(sizes):\n",
        "    jumps = list()\n",
        "    for i in range(1,len(sizes)):\n",
        "        jumps.append(Jump(sizes[i-1],sizes[i]))\n",
        "    return jumps"
      ],
      "execution_count": 0,
      "outputs": []
    },
    {
      "cell_type": "markdown",
      "metadata": {
        "id": "OPr8-d-029Fj",
        "colab_type": "text"
      },
      "source": [
        "\n",
        "Pesos entre capas"
      ]
    },
    {
      "cell_type": "code",
      "metadata": {
        "id": "XCfTNj2i2Xzk",
        "colab_type": "code",
        "colab": {}
      },
      "source": [
        "class Jump():\n",
        "    def __init__(self,left,right):\n",
        "        #self.weights = random.random((left, right))\n",
        "        self.weights = np.random.uniform(low=-1,high=1,size=(left,right))"
      ],
      "execution_count": 0,
      "outputs": []
    },
    {
      "cell_type": "markdown",
      "metadata": {
        "id": "k1_N-S5H3EGp",
        "colab_type": "text"
      },
      "source": [
        "Clase de la ANN con todas las funciones incluidas.\n",
        "La red se inicia con pesos dados en la matriz de saltos.\n",
        "La propagación hacia adelante devuelve valores en la capa de salida cuando se le da una fila de entrada.\n",
        "La función de entrenamiento entrena la red con:\n",
        "- Conjunto de entrenamiento\n",
        "-Número de épocas\n",
        "-Tasa de aprendizaje\n",
        "-Umbral de error\n"
      ]
    },
    {
      "cell_type": "code",
      "metadata": {
        "id": "JSESdp8p3EfL",
        "colab_type": "code",
        "colab": {}
      },
      "source": [
        "class Network():\n",
        "    # Network is initiated with given weights in jumps array.\n",
        "    def __init__(self,jumps):\n",
        "        self.jumps = jumps\n",
        "        self.n_jumps = len(jumps)\n",
        "    \n",
        "    # Training function, returns errors in each epoch.\n",
        "    def train(self,X_train,y_train,n_epoch,l_rate,threshold):\n",
        "        SSE_output = []\n",
        "        for epoch in range(n_epoch):\n",
        "            \n",
        "            cur_outputs = []\n",
        "            left = X_train[:]\n",
        "            \n",
        "            for jump in self.jumps:\n",
        "                left = nonlin(dot(left,jump.weights))\n",
        "                cur_outputs.append(left)\n",
        "            \n",
        "            errors = [0]*self.n_jumps\n",
        "            deltas = [0]*self.n_jumps\n",
        "            \n",
        "            # Error and delta at output layer\n",
        "            errors[-1] = y_train - cur_outputs[-1]\n",
        "            deltas[-1] = errors[-1]*nonlin(cur_outputs[-1],deriv=True)\n",
        "            \n",
        "            # Append the sum of squared error to SSE_output\n",
        "            SSE_output.append(np.sum(np.square(errors[-1])))\n",
        "            if SSE_output[-1]<threshold:\n",
        "                break\n",
        "            \n",
        "            # Calculating the errors and deltas for backpropagation\n",
        "            for i in reversed(range(self.n_jumps-1)):\n",
        "                errors[i] = deltas[i+1].dot(self.jumps[i+1].weights.T)\n",
        "                deltas[i] = errors[i]*nonlin(cur_outputs[i],deriv=True)\n",
        "            \n",
        "            # Adjusting changes\n",
        "            adjustments = []\n",
        "            adjustments.append(X_train.T.dot(deltas[0]))\n",
        "            for i in range(1,len(self.jumps)):\n",
        "                adjustments.append(cur_outputs[i-1].T.dot(deltas[i]))\n",
        "            \n",
        "            # The backpropagation: changing weights\n",
        "            for i,jump in enumerate(self.jumps):\n",
        "                jump.weights+=l_rate*adjustments[i]\n",
        "        return SSE_output\n",
        "    \n",
        "    # Gives a result on the output layer when given an input row.\n",
        "    def forward_propagate(self,row):\n",
        "        left = row\n",
        "        for jump in self.jumps:\n",
        "            left = nonlin(dot(left,jump.weights))\n",
        "        return left"
      ],
      "execution_count": 0,
      "outputs": []
    },
    {
      "cell_type": "markdown",
      "metadata": {
        "id": "Qek1IbcP-4cj",
        "colab_type": "text"
      },
      "source": [
        "Parametros del problema XOR"
      ]
    },
    {
      "cell_type": "code",
      "metadata": {
        "id": "yj89ZKnW6uH6",
        "colab_type": "code",
        "colab": {}
      },
      "source": [
        "sizes_xor = [2,8,1]\n",
        "X_train_xor = np.asarray([[0,0],[0,1],[1,0],[1,1]])\n",
        "y_train_xor = [[0],[1],[1],[0]]\n",
        "\n",
        "X_test_xor = [[0,0],[0,1],[1,0],[1,1]]\n",
        "y_test_xor = [[0],[1],[1],[0]]\n",
        "\n",
        "jumps_xor = create_jump_list(sizes_xor)\n",
        "network_xor = Network(jumps_xor)"
      ],
      "execution_count": 0,
      "outputs": []
    },
    {
      "cell_type": "markdown",
      "metadata": {
        "id": "scQDVws1_Bes",
        "colab_type": "text"
      },
      "source": [
        "Entrenamiento de la red XOR"
      ]
    },
    {
      "cell_type": "code",
      "metadata": {
        "id": "hzXOUAQ3_HPc",
        "colab_type": "code",
        "colab": {}
      },
      "source": [
        "n_epoch_xor   = 10000\n",
        "l_rate_xor    = 0.005\n",
        "threshold_xor = 0.003\n",
        "\n",
        "SSE_errors_xor = network_xor.train(X_train_xor,y_train_xor,n_epoch_xor,l_rate_xor,threshold_xor)\n",
        "test_results_xor = network_xor.forward_propagate(X_test_xor)"
      ],
      "execution_count": 0,
      "outputs": []
    },
    {
      "cell_type": "code",
      "metadata": {
        "id": "4NhJ9EiJ_Rwq",
        "colab_type": "code",
        "outputId": "5f4f831e-eb9b-4f87-9a73-1b7480e7457a",
        "colab": {
          "base_uri": "https://localhost:8080/",
          "height": 225
        }
      },
      "source": [
        "plot_errors(SSE_errors_xor)"
      ],
      "execution_count": 0,
      "outputs": [
        {
          "output_type": "display_data",
          "data": {
            "image/png": "[encoded data removed]",
            "text/plain": [
              "<Figure size 720x216 with 1 Axes>"
            ]
          },
          "metadata": {
            "tags": []
          }
        }
      ]
    },
    {
      "cell_type": "markdown",
      "metadata": {
        "id": "UEsLIX7m_XmJ",
        "colab_type": "text"
      },
      "source": [
        "Accuracy de la red XOR"
      ]
    },
    {
      "cell_type": "code",
      "metadata": {
        "id": "ShE1RQRuN69I",
        "colab_type": "code",
        "outputId": "c7ac3e75-f64d-4619-fb22-f60d48c8ef18",
        "colab": {
          "base_uri": "https://localhost:8080/",
          "height": 121
        }
      },
      "source": [
        "print('\\t  Resultado VS Esperado')\n",
        "acc = 0\n",
        "for i,elm in enumerate(test_results_xor):\n",
        "    prediction = elm[0]>0.5\n",
        "    print(elm[0],'==>',int(prediction),'vs',y_test_xor[i][0])\n",
        "    if prediction == y_test_xor[i]:\n",
        "        acc+=1\n",
        "        \n",
        "print('Accuracy:',acc/len(y_test_xor))"
      ],
      "execution_count": 0,
      "outputs": [
        {
          "output_type": "stream",
          "text": [
            "\t  Resultado VS Esperado\n",
            "0.0 ==> 0 vs 0\n",
            "0.9621884482166746 ==> 1 vs 1\n",
            "0.964719928078242 ==> 1 vs 1\n",
            "0.018024264605710293 ==> 0 vs 0\n",
            "Accuracy: 1.0\n"
          ],
          "name": "stdout"
        }
      ]
    }
  ]
}